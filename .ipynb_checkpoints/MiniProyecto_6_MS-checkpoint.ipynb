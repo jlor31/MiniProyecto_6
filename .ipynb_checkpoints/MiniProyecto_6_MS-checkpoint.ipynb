{
 "cells": [
  {
   "cell_type": "markdown",
   "id": "8db6ea63",
   "metadata": {},
   "source": [
    "## MiniProyecto 6\n",
    "\n",
    "#### Juan Lorthiois\n",
    "\n",
    "#### Elder Guzman"
   ]
  },
  {
   "cell_type": "code",
   "execution_count": 13,
   "id": "55dd8e49",
   "metadata": {},
   "outputs": [],
   "source": [
    "import numpy as np\n",
    "import random\n",
    "import matplotlib.pyplot as plt\n",
    "from statistics import mode"
   ]
  },
  {
   "cell_type": "markdown",
   "id": "57d0454d",
   "metadata": {},
   "source": [
    "### Ejercicio 1:\n",
    "\n",
    "Estimacion de la probabilidad de obtener cara o escudo en una moneda balanceadad via el método de MonteCarlo"
   ]
  },
  {
   "cell_type": "code",
   "execution_count": 2,
   "id": "80651e8b",
   "metadata": {},
   "outputs": [],
   "source": [
    "\n",
    "def simular_moneda(n_iters):\n",
    "    \n",
    "    No_caras = 0   #Inicializar contadores\n",
    "    \n",
    "    No_escudos = 0\n",
    "    \n",
    "    for i in range(0, n_iters):       \n",
    "        \n",
    "        resultado = np.random.randint(0,2)   #Lanzamos la moneda 1 vez. La muestra proveiene de una distribucion uniforme.\n",
    "        \n",
    "        if resultado == 0:    #Si es cara le agregamos 1 al contador de caras\n",
    "            No_caras += 1\n",
    "        else:\n",
    "            No_escudos += 1   #Si no es cara (o sea es escudo) le sumamos 1 al contador de escudos\n",
    "            \n",
    "    Prob_cara = No_caras/n_iters  #Calculamos la probabilidad de obtener cara basado en los resultados de la anterior simulacion\n",
    "    \n",
    "    Prob_escudos = No_escudos/n_iters  #Calulamos la probabilidad de obtener escudos\n",
    "    \n",
    "    return Prob_cara, Prob_escudos   #Devolver reultados de la simulacion para n iteraciones\n",
    "\n",
    "\n"
   ]
  },
  {
   "cell_type": "markdown",
   "id": "8199247c",
   "metadata": {},
   "source": [
    "Ahora que ya se preparó la simulación, determinamos la probabilidad de obtener cara y escudo respectivamente, después de 1,000,000 iteraciones."
   ]
  },
  {
   "cell_type": "code",
   "execution_count": 16,
   "id": "70d67cf4",
   "metadata": {},
   "outputs": [
    {
     "data": {
      "text/plain": [
       "(0.500729, 0.499271)"
      ]
     },
     "execution_count": 16,
     "metadata": {},
     "output_type": "execute_result"
    }
   ],
   "source": [
    "simular_moneda(1000000)  #Funciona !"
   ]
  },
  {
   "cell_type": "markdown",
   "id": "99a5e8f1",
   "metadata": {},
   "source": [
    "Como podemos ver, ambas probabilidades son muy cercanas a 0.5, lo cual es consistente con la teoría.\n",
    "\n",
    "Ahora, procedemos a generar un gráfica que nos indique la probabilidad calculada de obtener cara o escudo, en cada iteracion."
   ]
  },
  {
   "cell_type": "code",
   "execution_count": 40,
   "id": "b7244b1c",
   "metadata": {
    "scrolled": false
   },
   "outputs": [
    {
     "data": {
      "text/plain": [
       "Text(0, 0.5, 'Probabilidad')"
      ]
     },
     "execution_count": 40,
     "metadata": {},
     "output_type": "execute_result"
    },
    {
     "data": {
      "image/png": "[encoded data removed]",
      "text/plain": [
       "<Figure size 1080x720 with 1 Axes>"
      ]
     },
     "metadata": {
      "needs_background": "light"
     },
     "output_type": "display_data"
    }
   ],
   "source": [
    "X = [i for i in range(1, 10001)]\n",
    "\n",
    "Y = [simular_moneda(i)[0] for i in X]\n",
    "\n",
    "C = [0.5 for i in range(1, 10001)]\n",
    "\n",
    "\n",
    "plt.figure(figsize =(15, 10))\n",
    "plt.plot(X,Y, '-r')\n",
    "plt.plot(X, C, '-b')\n",
    "plt.yticks( np.arange(0, 1.1, 0.1))\n",
    "plt.xlabel('No de iteracion')\n",
    "plt.ylabel('Probabilidad')"
   ]
  },
  {
   "cell_type": "markdown",
   "id": "6c3c919a",
   "metadata": {},
   "source": [
    "### Ejercicio 2"
   ]
  },
  {
   "cell_type": "code",
   "execution_count": null,
   "id": "0f88f7b6",
   "metadata": {},
   "outputs": [],
   "source": [
    "def seleccion():\n",
    "    \n",
    "    n = random.randint(2)\n",
    "\n",
    "    if n == 0:\n",
    "        \n",
    "        return True\n",
    "    \n",
    "    else:\n",
    "        \n",
    "        return False"
   ]
  },
  {
   "cell_type": "code",
   "execution_count": null,
   "id": "dffad330",
   "metadata": {},
   "outputs": [],
   "source": [
    "def Monte_Carlo(dinero, apuesta, juegos):\n",
    "\n",
    "    dinero_juegos = [dinero]\n",
    "\n",
    "    par = seleccion()\n",
    "\n",
    "    for i in range(juegos):\n",
    "\n",
    "        if dinero < apuesta:\n",
    "\n",
    "      faltan = juegos - len(dinero_juegos)\n",
    "      \n",
    "      for j in range(faltan):\n",
    "\n",
    "        dinero_juegos.append(dinero)\n",
    "\n",
    "      return dinero_juegos, dinero\n",
    "\n",
    "    n = random.randint(1,101)\n",
    "\n",
    "    if par:\n",
    "\n",
    "      if n%2 == 0 and n != 10:\n",
    "\n",
    "        dinero = dinero + apuesta\n",
    "\n",
    "      else:\n",
    "\n",
    "        dinero = dinero - apuesta\n",
    "      \n",
    "    else:\n",
    "\n",
    "      if n%2 == 1 and n != 11:\n",
    "\n",
    "        dinero = dinero + apuesta\n",
    "\n",
    "      else:\n",
    "\n",
    "        dinero = dinero - apuesta\n",
    "\n",
    "    dinero_juegos.append(dinero)\n",
    "\n",
    "  return dinero_juegos, dinero"
   ]
  },
  {
   "cell_type": "markdown",
   "id": "580ae261",
   "metadata": {},
   "source": [
    "### Ejercicio 3:\n",
    "\n",
    "Resolver el problema del TSP mediante MCMC.\n",
    "\n"
   ]
  },
  {
   "cell_type": "markdown",
   "id": "2a5bdfcb",
   "metadata": {},
   "source": [
    "En la celda a continucion, ingresamos cada una de las aristas del grafo en forma de un terna (lista) ordenada, donde el primer numero es el nodo de salida, el segundo elemento el nodo de llegada, y el ultimo elemento la distancia que los separa.\n",
    "\n",
    "Por ejemplo, la arista entre $H_1$ y $H_8$, se denota: $[1,8,8]$\n",
    "\n",
    "NOTA: Como el grafo es en realidad un multigrafo, ya que hay 2 camino (aristas) entre los nodos $H_1$, y $H_8$, fue necesario crear un noveno nodo \"ficticio\" denotado por 81. Este nodo se refiere tambien al nodo $H_8$ pero debe notarse que si este aparece en la ruta optima encontrada, por ejemplo $[..., 81, 1]$ entonces, significa que debe emplearse la arista (ruta) directa entre $H_1$, y $H_8$. "
   ]
  },
  {
   "cell_type": "code",
   "execution_count": 3,
   "id": "fd3d4c3c",
   "metadata": {},
   "outputs": [],
   "source": [
    "\n",
    "\n",
    "Distancias = [   \n",
    "    \n",
    "    [1,2,5], [1,4,6], [1,8,8], [1,6,4], [1,81, 7],\n",
    "    [2,1,5], [2,5,3], [2,4,4], [2,3,2],\n",
    "    [3,2,2], [3,4,1],\n",
    "    [4,3,1], [4,2,4], [4,1,6], [4,5,7], \n",
    "    [5,4,7], [5,2,3], [5,7,6], [5,8,4], [5,81, 4],\n",
    "    [6,1,4], [6,7,3],\n",
    "    [7,6,3], [7,5,6], [7,8,2], [7,81, 2],\n",
    "    [8,5,4], [8,1,8], [8,7,2], [8,1,7],\n",
    "    [81,5,4], [81,1,8], [81,7,2], [81,1,7]\n",
    "   \n",
    "]   "
   ]
  },
  {
   "cell_type": "markdown",
   "id": "c9ce6cd1",
   "metadata": {},
   "source": [
    "La funcion que se describe en la celda a continuacion, permite calcular la distancia recorrida sobre un camino dado, ingresado en formato de lista: por ejemplo $[1,2,4,1,8,1]$"
   ]
  },
  {
   "cell_type": "code",
   "execution_count": 482,
   "id": "cad6d4bd",
   "metadata": {},
   "outputs": [],
   "source": [
    "def calc_dist(lista): # Definimos una funcion que dado un camino, i.e. una lista de nodos, nos permita calcular la distancia recorrida\n",
    "    \n",
    "    distancia = 0\n",
    "    \n",
    "    for i in range(1,len(lista)):\n",
    "        \n",
    "        arista = [lista[i], lista[i-1]]\n",
    "        \n",
    "        dist_arista = 0\n",
    "        \n",
    "        for tupla in Distancias:\n",
    "            \n",
    "            if (arista[0] == tupla[0] and arista[1] == tupla[1]):\n",
    "                \n",
    "                dist_arista =  tupla[2]\n",
    "                \n",
    "        if dist_arista == 0 :    #Si este camino no existe, agregamos un peso excesivo para que el camino no sea tomado en cuenta\n",
    "            \n",
    "            distancia = distancia + 100\n",
    "            \n",
    "        else:\n",
    "            distancia = distancia + dist_arista\n",
    "            \n",
    "    \n",
    "    return distancia\n",
    "                \n",
    "                \n",
    "    "
   ]
  },
  {
   "cell_type": "code",
   "execution_count": 483,
   "id": "adb2e701",
   "metadata": {
    "scrolled": true
   },
   "outputs": [
    {
     "data": {
      "text/plain": [
       "27"
      ]
     },
     "execution_count": 483,
     "metadata": {},
     "output_type": "execute_result"
    }
   ],
   "source": [
    "calc_dist([1,2,3,4,5, 8,1]) #Funciona!"
   ]
  },
  {
   "cell_type": "markdown",
   "id": "01d8f1d3",
   "metadata": {},
   "source": [
    "Finalmente, esta funcion se encarga exclusivamente de generar permutaciones aleatorias que empiezan en el nodo 1 y terminan en el nodo 1."
   ]
  },
  {
   "cell_type": "code",
   "execution_count": 559,
   "id": "0c2af9f6",
   "metadata": {},
   "outputs": [],
   "source": [
    "def generador_de_caminos():  #Definimos una funcion que devuelva caminos nuevos a cada vez que se le llama.\n",
    "    \n",
    "    lista_1 = [2,3,4,5,6,7,8]\n",
    "    lista_2 = [2,3,4,5,6,7,81]\n",
    "    \n",
    "    sel_lista = np.random.randint(2)\n",
    "    \n",
    "    if sel_lista == 0:\n",
    "        \n",
    "        camino = random.sample(lista_1, 7)\n",
    "        camino.insert(0, 1)\n",
    "        camino.insert(9, 1)\n",
    "        \n",
    "        return camino\n",
    "    \n",
    "    else:\n",
    "        camino = random.sample(lista_2, 7)\n",
    "        camino.insert(0, 1)\n",
    "        camino.insert(9, 1)\n",
    "        \n",
    "        return camino"
   ]
  },
  {
   "cell_type": "markdown",
   "id": "3756557a",
   "metadata": {},
   "source": [
    "Finalmente, implementamos la funcion que permite encontrar el camino más corto. Dado que hay mas de 362,000 permutacion posibles, recomendamos correr la funcion sobre al menos 500,000 iteraciones para estar seguros de que la mayoría de los posibles caso fueron cnosiderados. \n",
    "\n",
    "Nota: Aunque en este caso se realizaron 1,000,000 silaciones, el proceso en la computadora no tomó más de unos segundos."
   ]
  },
  {
   "cell_type": "code",
   "execution_count": 560,
   "id": "2d4788e3",
   "metadata": {},
   "outputs": [],
   "source": [
    "def MCMC_mejor_camino(X_o, iters):\n",
    "    \n",
    "    Nodos = [2,3,4,5,6,7,8,81]\n",
    "    \n",
    "    for i in range(0, iters):\n",
    "        \n",
    "        X = generador_de_caminos()\n",
    "        \n",
    "        if (calc_dist(X) < calc_dist(X_o)):\n",
    "            \n",
    "            X_o = X\n",
    "            \n",
    "    return X_o, calc_dist(X_o)"
   ]
  },
  {
   "cell_type": "code",
   "execution_count": 561,
   "id": "3914cc9c",
   "metadata": {},
   "outputs": [
    {
     "data": {
      "text/plain": [
       "([1, 4, 3, 2, 5, 81, 7, 6, 1], 25)"
      ]
     },
     "execution_count": 561,
     "metadata": {},
     "output_type": "execute_result"
    }
   ],
   "source": [
    "MCMC_mejor_camino([1,2,3,4,5, 6, 7, 8,1], 1000000)  #El resultado!"
   ]
  },
  {
   "cell_type": "code",
   "execution_count": null,
   "id": "ac5c23ce",
   "metadata": {},
   "outputs": [],
   "source": []
  }
 ],
 "metadata": {
  "kernelspec": {
   "display_name": "Python 3 (ipykernel)",
   "language": "python",
   "name": "python3"
  },
  "language_info": {
   "codemirror_mode": {
    "name": "ipython",
    "version": 3
   },
   "file_extension": ".py",
   "mimetype": "text/x-python",
   "name": "python",
   "nbconvert_exporter": "python",
   "pygments_lexer": "ipython3",
   "version": "3.9.7"
  }
 },
 "nbformat": 4,
 "nbformat_minor": 5
}
